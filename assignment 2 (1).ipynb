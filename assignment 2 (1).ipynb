{
 "cells": [
  {
   "cell_type": "markdown",
   "id": "3ce9aa8d",
   "metadata": {},
   "source": [
    "# Truong Hoang Thong"
   ]
  },
  {
   "cell_type": "markdown",
   "id": "dc074ae5",
   "metadata": {},
   "source": [
    "## Date : 17/02/2023"
   ]
  },
  {
   "cell_type": "markdown",
   "id": "6a8cee1b",
   "metadata": {},
   "source": [
    "1.Exercise 1\n"
   ]
  },
  {
   "cell_type": "code",
   "execution_count": 1,
   "id": "dc501df6",
   "metadata": {},
   "outputs": [
    {
     "name": "stdout",
     "output_type": "stream",
     "text": [
      "The result of the calculation was: \n",
      "149769\n"
     ]
    }
   ],
   "source": [
    "x = 100\n",
    "y = 29\n",
    "the_interpreter_sum_up_the_two_numbers_and_multiply_their_result_by_3 = ( x + y )*3\n",
    "calculate_the_2nd_exponent_of_the_previous_number = (( x + y )*3)**2\n",
    "print (\"The result of the calculation was: \")\n",
    "print ( calculate_the_2nd_exponent_of_the_previous_number ) "
   ]
  },
  {
   "cell_type": "markdown",
   "id": "8c3d197a",
   "metadata": {},
   "source": [
    "2.Exercise 2 "
   ]
  },
  {
   "cell_type": "code",
   "execution_count": 3,
   "id": "25f83528",
   "metadata": {},
   "outputs": [
    {
     "name": "stdout",
     "output_type": "stream",
     "text": [
      "Your name : John\n",
      "Your age : 26\n",
      "Your year of birth : 1995\n",
      "Password: 95Joh676\n"
     ]
    }
   ],
   "source": [
    "your_name = str(input(\"Your name : \")) \n",
    "your_age = int(input(\"Your age : \"))\n",
    "your_year_of_birth = int(input(\"Your year of birth : \"))\n",
    "your_year_of_birth = str(your_year_of_birth)\n",
    "print (\"Password: \" + your_year_of_birth[2:4]+your_name[0:3]+str(your_age*your_age))"
   ]
  },
  {
   "cell_type": "markdown",
   "id": "7e63b00c",
   "metadata": {},
   "source": [
    "3.Exercise 3"
   ]
  },
  {
   "cell_type": "code",
   "execution_count": 17,
   "id": "91770f78",
   "metadata": {},
   "outputs": [
    {
     "name": "stdout",
     "output_type": "stream",
     "text": [
      "first number: 5\n",
      "second number :6\n",
      "One of the numbers is even\n"
     ]
    }
   ],
   "source": [
    "first_number = int(input(\"first number: \"))\n",
    "second_number = int(input(\"second number :\")) \n",
    "if  first_number%2 == 0 and second_number%2 == 0:\n",
    "    print (\"Both numbers are even.\")\n",
    "elif  first_number%2 !=0 or second_number%2 != 0:\n",
    "    print (\"One of the numbers is even\")\n",
    "else :\n",
    "    print (\"Both numbers are odd\")"
   ]
  },
  {
   "cell_type": "markdown",
   "id": "a0cf01c0",
   "metadata": {},
   "source": [
    "4.Exercise 4"
   ]
  },
  {
   "cell_type": "code",
   "execution_count": 67,
   "id": "ea4b1019",
   "metadata": {},
   "outputs": [
    {
     "name": "stdout",
     "output_type": "stream",
     "text": [
      "Give an integer:5\n",
      "The sum was:10\n"
     ]
    }
   ],
   "source": [
    "integer_number = int(input(\"Give an integer:\"))\n",
    "x = sum(range(0,integer_number))\n",
    "x = str(x)\n",
    "print(\"The sum was:\"+x)"
   ]
  },
  {
   "cell_type": "markdown",
   "id": "67dab5ee",
   "metadata": {},
   "source": [
    "5.Exercise 5"
   ]
  },
  {
   "cell_type": "code",
   "execution_count": 2,
   "id": "4d7bc672",
   "metadata": {
    "scrolled": true
   },
   "outputs": [
    {
     "name": "stdout",
     "output_type": "stream",
     "text": [
      "player 1: 1\n",
      "Try a greater number \n",
      "player 1: 2\n",
      "That’s right! Number of tries:1\n",
      "player 2: 3\n",
      "That’s right! Number of tries:0\n",
      "Winer is Player2\n"
     ]
    }
   ],
   "source": [
    "import random\n",
    "import math\n",
    "x = random.randint(0,10)\n",
    "while True:\n",
    "    guest_number = int(input(\"player 1: \"))\n",
    "    if guest_number > 10 or guest_number < 0 :\n",
    "        print (\"number between 0 and 10,please\") \n",
    "        continue\n",
    "    else :\n",
    "        break\n",
    "count_1 = 0\n",
    "while x != guest_number:\n",
    "    count_1 += 1\n",
    "    if guest_number > x:\n",
    "        print (\"Try a smaller number \")\n",
    "        guest_number = int(input(\"player 1: \"))\n",
    "    elif guest_number < x:\n",
    "            print (\"Try a greater number \")\n",
    "            guest_number = int(input(\"player 1: \"))\n",
    "    else:\n",
    "        break\n",
    "print (\"That’s right! Number of tries:\"+ str(count_1))\n",
    "while True:\n",
    "    guest_number_2 = int(input(\"player 2: \"))\n",
    "    if guest_number_2 > 10 or guest_number < 0 :\n",
    "        print (\"number between 0 and 10,please\") \n",
    "        continue\n",
    "    else :\n",
    "        break\n",
    "count_2 = 0\n",
    "while x != guest_number:\n",
    "    count_2 += 1\n",
    "    if guest_number > x:\n",
    "        print (\"Try a smaller number \")\n",
    "        guest_number = int(input(\"player 2: \"))\n",
    "    elif guest_number < x:\n",
    "            print (\"Try a greater number \")\n",
    "            guest_number = int(input(\"player 2: \"))\n",
    "    else:\n",
    "        break\n",
    "print (\"That’s right! Number of tries:\"+ str(count_2))\n",
    "if count_2 > count_1 :\n",
    "    print(\"Winer is Player1 \")\n",
    "elif count_2 < count_1 :\n",
    "    print(\"Winer is Player2\")\n",
    "else :\n",
    "    print(\"2 players are draw\")\n",
    "        \n",
    "\n",
    "\n",
    "\n"
   ]
  }
 ],
 "metadata": {
  "kernelspec": {
   "display_name": "Python 3 (ipykernel)",
   "language": "python",
   "name": "python3"
  },
  "language_info": {
   "codemirror_mode": {
    "name": "ipython",
    "version": 3
   },
   "file_extension": ".py",
   "mimetype": "text/x-python",
   "name": "python",
   "nbconvert_exporter": "python",
   "pygments_lexer": "ipython3",
   "version": "3.11.1"
  }
 },
 "nbformat": 4,
 "nbformat_minor": 5
}
